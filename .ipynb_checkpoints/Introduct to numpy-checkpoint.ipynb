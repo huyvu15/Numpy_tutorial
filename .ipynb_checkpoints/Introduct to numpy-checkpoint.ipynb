{
 "cells": [
  {
   "cell_type": "code",
   "execution_count": 3,
   "id": "1577e479",
   "metadata": {},
   "outputs": [
    {
     "data": {
      "text/plain": [
       "numpy.ndarray"
      ]
     },
     "execution_count": 3,
     "metadata": {},
     "output_type": "execute_result"
    }
   ],
   "source": [
    "import numpy as np\n",
    "\n",
    "# create array 1D from list\n",
    "vector = [1, 2, 3, 4, 5]\n",
    "vt = np.array(vector)\n",
    "vt\n",
    "type(vt)"
   ]
  },
  {
   "cell_type": "code",
   "execution_count": 4,
   "id": "8acb1971",
   "metadata": {},
   "outputs": [
    {
     "data": {
      "text/plain": [
       "array([[1, 3, 4],\n",
       "       [2, 3, 4],\n",
       "       [3, 4, 5]])"
      ]
     },
     "execution_count": 4,
     "metadata": {},
     "output_type": "execute_result"
    }
   ],
   "source": [
    "# create arry 2D from list\n",
    "vector1 = [[1, 3, 4], [2, 3, 4], [3, 4, 5]]\n",
    "vt1 = np.array(vector1)\n",
    "vt1"
   ]
  },
  {
   "cell_type": "markdown",
   "id": "6449fcbe",
   "metadata": {},
   "source": [
    "# Array in numpy can contain many different data type\n",
    "1. np.zeros((n, m)): create a array have size n rows, m columns contain values 0\n",
    "2. np.random.random(n, m): array have size n, m the elements has value random from 0-1 (phân phối đều)\n",
    "3. np.arange((-3,4)): array 1D contain interger continue from -3 -> 4\n",
    "   np.arange(5): arr 1D contain interger continue 0 -> 5\n",
    "   np.arange(-3, 4, 3): 4 is the step"
   ]
  },
  {
   "cell_type": "code",
   "execution_count": 6,
   "id": "539e0065",
   "metadata": {},
   "outputs": [
    {
     "data": {
      "text/plain": [
       "array([[0., 0., 0., 0., 0.],\n",
       "       [0., 0., 0., 0., 0.],\n",
       "       [0., 0., 0., 0., 0.]])"
      ]
     },
     "execution_count": 6,
     "metadata": {},
     "output_type": "execute_result"
    }
   ],
   "source": [
    "np.zeros((3, 5))"
   ]
  },
  {
   "cell_type": "code",
   "execution_count": 7,
   "id": "35e2e62f",
   "metadata": {},
   "outputs": [
    {
     "data": {
      "text/plain": [
       "array([[0.57998359, 0.58909011, 0.48947102, 0.57324207],\n",
       "       [0.66058578, 0.56161082, 0.01931511, 0.53840827]])"
      ]
     },
     "execution_count": 7,
     "metadata": {},
     "output_type": "execute_result"
    }
   ],
   "source": [
    "np.random.random((2, 4))"
   ]
  },
  {
   "cell_type": "code",
   "execution_count": 8,
   "id": "2454ebe5",
   "metadata": {},
   "outputs": [
    {
     "data": {
      "text/plain": [
       "array([-3, -2, -1,  0,  1,  2,  3])"
      ]
     },
     "execution_count": 8,
     "metadata": {},
     "output_type": "execute_result"
    }
   ],
   "source": [
    "np.arange(-3, 4)"
   ]
  },
  {
   "cell_type": "code",
   "execution_count": 9,
   "id": "5de7ddc7",
   "metadata": {},
   "outputs": [
    {
     "data": {
      "text/plain": [
       "array([0, 1, 2, 3, 4])"
      ]
     },
     "execution_count": 9,
     "metadata": {},
     "output_type": "execute_result"
    }
   ],
   "source": [
    "np.arange(5)"
   ]
  },
  {
   "cell_type": "code",
   "execution_count": 10,
   "id": "a7b100c6",
   "metadata": {},
   "outputs": [
    {
     "data": {
      "text/plain": [
       "array([-3,  0,  3])"
      ]
     },
     "execution_count": 10,
     "metadata": {},
     "output_type": "execute_result"
    }
   ],
   "source": [
    "np.arange(-3, 4, 3)"
   ]
  },
  {
   "cell_type": "markdown",
   "id": "2cea026a",
   "metadata": {},
   "source": [
    "# Array 3D"
   ]
  },
  {
   "cell_type": "code",
   "execution_count": 22,
   "id": "6d41b50c",
   "metadata": {},
   "outputs": [
    {
     "name": "stdout",
     "output_type": "stream",
     "text": [
      "[[[1 2]\n",
      "  [5 7]]\n",
      "\n",
      " [[8 9]\n",
      "  [5 7]]\n",
      "\n",
      " [[1 2]\n",
      "  [5 7]]]\n",
      "The size of array_3D is:  (3, 2, 2)\n"
     ]
    }
   ],
   "source": [
    "array_1_2D = np.array([[1, 2], [5, 7]])\n",
    "\n",
    "array_2_2D = np.array([[8, 9], [5, 7]])\n",
    "\n",
    "array_3_2D = np.array([[1, 2], [5, 7]])\n",
    "\n",
    "array_3D = np.array([array_1_2D, array_2_2D, array_3_2D])\n",
    "print(array_3D)\n",
    "print(\"The size of array_3D is: \",array_3D.shape)"
   ]
  },
  {
   "cell_type": "markdown",
   "id": "586bd19a",
   "metadata": {},
   "source": [
    "# Vertor array, methods\n",
    "- shape(): return size of array \n",
    "- flatten(): change arange two demesion as one denension\n",
    "- reshape(2, 3): change hình dạng của mạng không làm thay đổi số lượng phần tử\n",
    "- .dtype: confirm data type of a array\n",
    "- .astype(np.int32): ép kiểu data type thành int, có thể float64"
   ]
  },
  {
   "cell_type": "code",
   "execution_count": 24,
   "id": "b368d6e2",
   "metadata": {},
   "outputs": [
    {
     "data": {
      "text/plain": [
       "array([1, 2, 5, 7, 6, 6])"
      ]
     },
     "execution_count": 24,
     "metadata": {},
     "output_type": "execute_result"
    }
   ],
   "source": [
    "array = np.array([[1, 2], [5, 7], [6, 6]])\n",
    "array.flatten()"
   ]
  },
  {
   "cell_type": "code",
   "execution_count": 25,
   "id": "a7fcacc6",
   "metadata": {},
   "outputs": [
    {
     "data": {
      "text/plain": [
       "array([[1, 2, 5],\n",
       "       [7, 6, 6]])"
      ]
     },
     "execution_count": 25,
     "metadata": {},
     "output_type": "execute_result"
    }
   ],
   "source": [
    "array = np.array([[1, 2], [5, 7], [6, 6]])\n",
    "array.reshape((2, 3))"
   ]
  },
  {
   "cell_type": "code",
   "execution_count": 26,
   "id": "a270713b",
   "metadata": {},
   "outputs": [
    {
     "ename": "ValueError",
     "evalue": "cannot reshape array of size 6 into shape (3,3)",
     "output_type": "error",
     "traceback": [
      "\u001b[1;31m---------------------------------------------------------------------------\u001b[0m",
      "\u001b[1;31mValueError\u001b[0m                                Traceback (most recent call last)",
      "\u001b[1;32m~\\AppData\\Local\\Temp\\ipykernel_15928\\2903620091.py\u001b[0m in \u001b[0;36m<module>\u001b[1;34m\u001b[0m\n\u001b[1;32m----> 1\u001b[1;33m \u001b[0marray\u001b[0m\u001b[1;33m.\u001b[0m\u001b[0mreshape\u001b[0m\u001b[1;33m(\u001b[0m\u001b[1;33m(\u001b[0m\u001b[1;36m3\u001b[0m\u001b[1;33m,\u001b[0m \u001b[1;36m3\u001b[0m\u001b[1;33m)\u001b[0m\u001b[1;33m)\u001b[0m\u001b[1;33m\u001b[0m\u001b[1;33m\u001b[0m\u001b[0m\n\u001b[0m",
      "\u001b[1;31mValueError\u001b[0m: cannot reshape array of size 6 into shape (3,3)"
     ]
    }
   ],
   "source": [
    "array.reshape((3, 3))\n",
    "# không thể thay đổi về ma trận 3 3 do lỗi kích thước"
   ]
  },
  {
   "cell_type": "code",
   "execution_count": 27,
   "id": "580e3f8c",
   "metadata": {},
   "outputs": [
    {
     "data": {
      "text/plain": [
       "dtype('float64')"
      ]
     },
     "execution_count": 27,
     "metadata": {},
     "output_type": "execute_result"
    }
   ],
   "source": [
    "np.array([1.32, 5.78, 175.55]).dtype"
   ]
  },
  {
   "cell_type": "code",
   "execution_count": null,
   "id": "2e7d4423",
   "metadata": {},
   "outputs": [],
   "source": [
    "boolean_array = np.array([[True, False], [False, False]], dtype=np.bool_)\n",
    "boolean_array.astype(np.int32)"
   ]
  }
 ],
 "metadata": {
  "kernelspec": {
   "display_name": "Python 3 (ipykernel)",
   "language": "python",
   "name": "python3"
  },
  "language_info": {
   "codemirror_mode": {
    "name": "ipython",
    "version": 3
   },
   "file_extension": ".py",
   "mimetype": "text/x-python",
   "name": "python",
   "nbconvert_exporter": "python",
   "pygments_lexer": "ipython3",
   "version": "3.9.13"
  }
 },
 "nbformat": 4,
 "nbformat_minor": 5
}
