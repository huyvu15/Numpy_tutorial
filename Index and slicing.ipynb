{
 "cells": [
  {
   "cell_type": "markdown",
   "id": "3463e988",
   "metadata": {},
   "source": [
    "# Index\n",
    "## array 1D\n",
    "## slicing(lát cắt)\n",
    "phần lớn cách sử dụng tương tự như list\n"
   ]
  },
  {
   "cell_type": "code",
   "execution_count": 2,
   "id": "e8f4a297",
   "metadata": {},
   "outputs": [],
   "source": [
    "import numpy as np"
   ]
  },
  {
   "cell_type": "code",
   "execution_count": 3,
   "id": "6c24aaf5",
   "metadata": {},
   "outputs": [
    {
     "data": {
      "text/plain": [
       "8"
      ]
     },
     "execution_count": 3,
     "metadata": {},
     "output_type": "execute_result"
    }
   ],
   "source": [
    "\n",
    "array = np.array([2, 4, 6, 8, 10])\n",
    "array[3]"
   ]
  },
  {
   "cell_type": "code",
   "execution_count": 5,
   "id": "aad4558d",
   "metadata": {},
   "outputs": [
    {
     "data": {
      "text/plain": [
       "array([6, 8])"
      ]
     },
     "execution_count": 5,
     "metadata": {},
     "output_type": "execute_result"
    }
   ],
   "source": [
    "array = np.array([2, 4, 6, 8, 10])\n",
    "array[2:4]"
   ]
  },
  {
   "cell_type": "markdown",
   "id": "79fee4b8",
   "metadata": {},
   "source": [
    "# Tương tự có các thao tác cho 2D \n",
    "sudoku_game[3:6, 3:6] \n",
    "\n",
    "#array([[0, 0, 2],[0, 0, 7],[0, 8, 3]])\n",
    "- sort\n",
    "- Boolean masks (tương tự đối với 2D)"
   ]
  },
  {
   "cell_type": "code",
   "execution_count": 7,
   "id": "669c1151",
   "metadata": {},
   "outputs": [
    {
     "data": {
      "text/plain": [
       "array([False,  True, False,  True, False])"
      ]
     },
     "execution_count": 7,
     "metadata": {},
     "output_type": "execute_result"
    }
   ],
   "source": [
    "# Boolean masks\n",
    "one_to_five = np.arange(1, 6)\n",
    "\n",
    "one_to_five\n",
    "mask = one_to_five % 2 == 0\n",
    "mask"
   ]
  },
  {
   "cell_type": "code",
   "execution_count": 16,
   "id": "87aca27a",
   "metadata": {},
   "outputs": [
    {
     "data": {
      "text/plain": [
       "array([1, 4])"
      ]
     },
     "execution_count": 16,
     "metadata": {},
     "output_type": "execute_result"
    }
   ],
   "source": [
    "classroom_ids_and_sizes = np.array([[1, 22], [2, 21], [3, 27], [4, 26]])\n",
    "classroom_ids_and_sizes\n",
    "\n",
    "classroom_ids_and_sizes[:, 0][classroom_ids_and_sizes[:, 1] % 2 == 0] # thao tác tìm kiếm"
   ]
  },
  {
   "cell_type": "code",
   "execution_count": null,
   "id": "63d6c48f",
   "metadata": {},
   "outputs": [],
   "source": [
    "# indices(chỉ số)\n",
    "- Find and replace"
   ]
  },
  {
   "cell_type": "code",
   "execution_count": 15,
   "id": "7a9ccad6",
   "metadata": {},
   "outputs": [
    {
     "data": {
      "text/plain": [
       "(array([0, 0, 0, 0, 0, 1, 1, 1, 1, 1, 1, 2, 2, 2, 2, 2, 3, 3, 3, 3, 3, 4,\n",
       "        4, 4, 4, 4, 5, 5, 5, 5, 5, 5, 6, 6, 6, 6, 6, 6, 7, 7, 7, 7, 8, 8,\n",
       "        8, 8], dtype=int64),\n",
       " array([0, 1, 4, 5, 7, 0, 1, 3, 4, 6, 7, 0, 2, 3, 5, 6, 0, 1, 3, 4, 6, 2,\n",
       "        3, 4, 7, 8, 0, 2, 3, 6, 7, 8, 1, 2, 3, 4, 5, 7, 0, 1, 4, 8, 0, 5,\n",
       "        7, 8], dtype=int64))"
      ]
     },
     "execution_count": 15,
     "metadata": {},
     "output_type": "execute_result"
    }
   ],
   "source": [
    "sudoku_game = np.array([[0, 0, 4, 3, 0, 0, 2, 0, 9],\n",
    "[0, 0, 5, 0, 0, 9, 0, 0, 1],\n",
    "[0, 7, 0, 0, 6, 0, 0, 4, 3],\n",
    "[0, 0, 6, 0, 0, 2, 0, 8, 7],\n",
    "[1, 9, 0, 0, 0, 7, 4, 0, 0],\n",
    "[0, 5, 0, 0, 8, 3, 0, 0, 0],\n",
    "[6, 0, 0, 0, 0, 0, 1, 0, 5],\n",
    "[0, 0, 3, 5, 0, 8, 6, 9, 0],\n",
    "[0, 4, 2, 9, 1, 0, 3, 0, 0]])\n",
    "sudoku_game\n",
    "\n",
    "\n",
    "row_ind, column_ind = np.where(sudoku_game == 0)\n",
    "\n",
    "row_ind, column_ind"
   ]
  },
  {
   "cell_type": "code",
   "execution_count": 17,
   "id": "9c11c9cc",
   "metadata": {},
   "outputs": [
    {
     "data": {
      "text/plain": [
       "array([['', '', '4', '3', '', '', '2', '', '9'],\n",
       "       ['', '', '5', '', '', '9', '', '', '1'],\n",
       "       ['', '7', '', '', '6', '', '', '4', '3'],\n",
       "       ['', '', '6', '', '', '2', '', '8', '7'],\n",
       "       ['1', '9', '', '', '', '7', '4', '', ''],\n",
       "       ['', '5', '', '', '8', '3', '', '', ''],\n",
       "       ['6', '', '', '', '', '', '1', '', '5'],\n",
       "       ['', '', '3', '5', '', '8', '6', '9', ''],\n",
       "       ['', '4', '2', '9', '1', '', '3', '', '']], dtype='<U11')"
      ]
     },
     "execution_count": 17,
     "metadata": {},
     "output_type": "execute_result"
    }
   ],
   "source": [
    "np.where(sudoku_game == 0,\"\", sudoku_game) # find and replace"
   ]
  },
  {
   "cell_type": "markdown",
   "id": "4f326b2b",
   "metadata": {},
   "source": [
    "# connect array\n",
    "- np.concatenate((a, b))\n",
    "- attention plus two matrix follow define matrix in Curriculum(giáo trình )"
   ]
  },
  {
   "cell_type": "code",
   "execution_count": 18,
   "id": "811463ae",
   "metadata": {},
   "outputs": [
    {
     "data": {
      "text/plain": [
       "array([[ 1, 22],\n",
       "       [ 2, 21],\n",
       "       [ 3, 27],\n",
       "       [ 4, 26],\n",
       "       [ 5, 30],\n",
       "       [ 5, 17]])"
      ]
     },
     "execution_count": 18,
     "metadata": {},
     "output_type": "execute_result"
    }
   ],
   "source": [
    "classroom_ids_and_sizes = np.array([[1, 22], [2, 21], [3, 27], [4, 26]])\n",
    "\n",
    "new_classrooms = np.array([[5, 30], [5, 17]])\n",
    "\n",
    "np.concatenate((classroom_ids_and_sizes, new_classrooms))"
   ]
  },
  {
   "cell_type": "markdown",
   "id": "2866c5cc",
   "metadata": {},
   "source": [
    "# Connect colums \n",
    "- axis = 1: theo chiều ngang\n",
    "- axis = 0: theo chiều dọc"
   ]
  },
  {
   "cell_type": "code",
   "execution_count": 29,
   "id": "45412596",
   "metadata": {},
   "outputs": [
    {
     "data": {
      "text/plain": [
       "array([['1', '22', '1', 'James'],\n",
       "       ['2', '21', '1', 'George'],\n",
       "       ['3', '27', '3', 'Amy'],\n",
       "       ['4', '26', '3', 'Meehir']], dtype='<U11')"
      ]
     },
     "execution_count": 29,
     "metadata": {},
     "output_type": "execute_result"
    }
   ],
   "source": [
    "classroom_ids_and_sizes = np.array([[1, 22], [2, 21], [3, 27], [4, 26]])\n",
    "\n",
    "grade_levels_and_teachers = np.array([[1,\"James\"], [1,\"George\"], [3,\"Amy\"], [3,\"Meehir\"]])\n",
    "\n",
    "classroom_data = np.concatenate((classroom_ids_and_sizes, grade_levels_and_teachers), axis=1)\n",
    "classroom_data"
   ]
  },
  {
   "cell_type": "markdown",
   "id": "137a71ba",
   "metadata": {},
   "source": [
    "# np.delete(array, index, axis = 0 or 1)\n"
   ]
  },
  {
   "cell_type": "code",
   "execution_count": 30,
   "id": "6b69e443",
   "metadata": {},
   "outputs": [
    {
     "data": {
      "text/plain": [
       "array([['1', '1', 'James'],\n",
       "       ['2', '1', 'George'],\n",
       "       ['3', '3', 'Amy'],\n",
       "       ['4', '3', 'Meehir']], dtype='<U11')"
      ]
     },
     "execution_count": 30,
     "metadata": {},
     "output_type": "execute_result"
    }
   ],
   "source": [
    "np.delete(classroom_data, 1, axis = 1) # xóa cột 1"
   ]
  },
  {
   "cell_type": "code",
   "execution_count": null,
   "id": "d66ea0db",
   "metadata": {},
   "outputs": [],
   "source": []
  }
 ],
 "metadata": {
  "kernelspec": {
   "display_name": "Python 3 (ipykernel)",
   "language": "python",
   "name": "python3"
  },
  "language_info": {
   "codemirror_mode": {
    "name": "ipython",
    "version": 3
   },
   "file_extension": ".py",
   "mimetype": "text/x-python",
   "name": "python",
   "nbconvert_exporter": "python",
   "pygments_lexer": "ipython3",
   "version": "3.9.13"
  }
 },
 "nbformat": 4,
 "nbformat_minor": 5
}
