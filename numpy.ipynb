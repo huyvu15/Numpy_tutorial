{
 "cells": [
  {
   "cell_type": "code",
   "execution_count": 1,
   "id": "88316204",
   "metadata": {},
   "outputs": [
    {
     "name": "stdout",
     "output_type": "stream",
     "text": [
      "3.5\n",
      "21\n",
      "1.707825127659933\n",
      "[1 2 3 4 5 6]\n"
     ]
    }
   ],
   "source": [
    "import numpy as np\n",
    "\n",
    "arr = np.array([1, 2, 3, 4 ,5, 6], dtype = 'i')\n",
    "\n",
    "# method mean: \n",
    "print(arr.mean())\n",
    "\n",
    "# method sum\n",
    "print(arr.sum())\n",
    "\n",
    "# method standard deviation: độ lệch chuẩn\n",
    "print(arr.std())\n",
    "\n",
    "# reshape from 1-D to 2D\n",
    "    \n",
    "print(arr.view())\n"
   ]
  },
  {
   "cell_type": "code",
   "execution_count": 3,
   "id": "43962747",
   "metadata": {},
   "outputs": [
    {
     "name": "stdout",
     "output_type": "stream",
     "text": [
      "(6,)\n"
     ]
    }
   ],
   "source": [
    "print(arr.shape)"
   ]
  }
 ],
 "metadata": {
  "kernelspec": {
   "display_name": "Python 3 (ipykernel)",
   "language": "python",
   "name": "python3"
  },
  "language_info": {
   "codemirror_mode": {
    "name": "ipython",
    "version": 3
   },
   "file_extension": ".py",
   "mimetype": "text/x-python",
   "name": "python",
   "nbconvert_exporter": "python",
   "pygments_lexer": "ipython3",
   "version": "3.9.13"
  }
 },
 "nbformat": 4,
 "nbformat_minor": 5
}
